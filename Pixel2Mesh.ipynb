{
  "nbformat": 4,
  "nbformat_minor": 0,
  "metadata": {
    "colab": {
      "name": "Pixel2Mesh.ipynb",
      "provenance": [],
      "collapsed_sections": []
    },
    "kernelspec": {
      "name": "python3",
      "display_name": "Python 3"
    },
    "language_info": {
      "name": "python"
    }
  },
  "cells": [
    {
      "cell_type": "code",
      "source": [
        "# run all cells and look for instructions at the end"
      ],
      "metadata": {
        "id": "M3UWDAi6nuYF"
      },
      "execution_count": null,
      "outputs": []
    },
    {
      "cell_type": "code",
      "execution_count": null,
      "metadata": {
        "id": "VrolsJOWAHM4"
      },
      "outputs": [],
      "source": [
        "!git clone https://github.com/Addy01-git/Pixel2Mesh.git"
      ]
    },
    {
      "cell_type": "code",
      "source": [
        "!wget --load-cookies /tmp/cookies.txt \"https://docs.google.com/uc?export=download&confirm=$(wget --quiet --save-cookies /tmp/cookies.txt --keep-session-cookies --no-check-certificate 'https://docs.google.com/uc?export=download&id=1gD-dk-XrAa5mfrgdZSunjaS6pUUWsZgU' -O- | sed -rn 's/.*confirm=([0-9A-Za-z_]+).*/\\1\\n/p')&id=1gD-dk-XrAa5mfrgdZSunjaS6pUUWsZgU\" -O checkpoints.zip && rm -rf /tmp/cookies.txt\n",
        "!unzip checkpoints.zip -d /content/Pixel2Mesh/Data"
      ],
      "metadata": {
        "id": "n5b67mHUA6bQ"
      },
      "execution_count": null,
      "outputs": []
    },
    {
      "cell_type": "code",
      "source": [
        "!apt-get --purge remove cuda nvidia* libnvidia-*\n",
        "!dpkg -l | grep cuda- | awk '{print $2}' | xargs -n1 dpkg --purge\n",
        "!apt-get remove cuda-*\n",
        "!apt autoremove\n",
        "!apt-get update"
      ],
      "metadata": {
        "id": "MCN3tu9-BBQS"
      },
      "execution_count": null,
      "outputs": []
    },
    {
      "cell_type": "code",
      "source": [
        "!wget https://developer.nvidia.com/compute/cuda/8.0/Prod2/local_installers/cuda-repo-ubuntu1604-8-0-local-ga2_8.0.61-1_amd64-deb\n",
        "!dpkg -i cuda-repo-ubuntu1604-8-0-local-ga2_8.0.61-1_amd64-deb"
      ],
      "metadata": {
        "id": "dTgpeEe1BIj0"
      },
      "execution_count": null,
      "outputs": []
    },
    {
      "cell_type": "code",
      "source": [
        "!find / -name 7fa2af80.pub"
      ],
      "metadata": {
        "id": "cJRMzRiGBKUS"
      },
      "execution_count": null,
      "outputs": []
    },
    {
      "cell_type": "code",
      "source": [
        "!apt-key add /var/cuda-repo-8-0-local-ga2/7fa2af80.pub"
      ],
      "metadata": {
        "id": "UKU7WbiTBK9J"
      },
      "execution_count": null,
      "outputs": []
    },
    {
      "cell_type": "code",
      "source": [
        "!apt-get update\n",
        "!apt-get install cuda-8-0"
      ],
      "metadata": {
        "id": "_XmAD01rBLL9"
      },
      "execution_count": null,
      "outputs": []
    },
    {
      "cell_type": "code",
      "source": [
        "!nvcc --version"
      ],
      "metadata": {
        "id": "GrVUbaDYBLe9"
      },
      "execution_count": null,
      "outputs": []
    },
    {
      "cell_type": "code",
      "source": [
        "!python2 -m pip install tensorflow==1.3.0\n",
        "!python2 -m pip install tflearn==0.3.2"
      ],
      "metadata": {
        "id": "DHCI8BVcBLvG"
      },
      "execution_count": null,
      "outputs": []
    },
    {
      "cell_type": "code",
      "source": [
        "!python2 -m pip install -U scikit-image"
      ],
      "metadata": {
        "id": "X3jPXWdIDRx2"
      },
      "execution_count": null,
      "outputs": []
    },
    {
      "cell_type": "code",
      "source": [
        "%cd /content/Pixel2Mesh\n",
        "!python2 demo.py --image Data/examples/table.png\n",
        "!python2 demo.py --image Data/examples/gun.png\n",
        "!python2 demo.py --image Data/examples/chair.png\n",
        "!python2 demo.py --image Data/examples/gun.png\n",
        "!python2 demo.py --image Data/examples/lamp.png"
      ],
      "metadata": {
        "id": "fud59Dg4BMAT"
      },
      "execution_count": null,
      "outputs": []
    },
    {
      "cell_type": "code",
      "source": [
        "# obj files will be downloaded in the folder Data/examples as {objectname}.obj\n",
        "# right-click obj file and download to PC\n",
        "# upload files one by one to http://3dviewer.net/ to view the 3D object.\n",
        "\n",
        "# Thank You!!"
      ],
      "metadata": {
        "id": "bez-dCVLDxHC"
      },
      "execution_count": null,
      "outputs": []
    },
    {
      "cell_type": "code",
      "source": [
        ""
      ],
      "metadata": {
        "id": "MWG8EVDnKP3e"
      },
      "execution_count": null,
      "outputs": []
    }
  ]
}
